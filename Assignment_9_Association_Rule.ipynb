{
  "nbformat": 4,
  "nbformat_minor": 0,
  "metadata": {
    "colab": {
      "name": "Assignment-9-Association-Rule.ipynb",
      "provenance": [],
      "collapsed_sections": []
    },
    "kernelspec": {
      "name": "python3",
      "display_name": "Python 3"
    },
    "language_info": {
      "name": "python"
    }
  },
  "cells": [
    {
      "cell_type": "markdown",
      "metadata": {
        "id": "2d_al5u7b1G2"
      },
      "source": [
        "#Assignment-9-Association Rule"
      ]
    },
    {
      "cell_type": "markdown",
      "metadata": {
        "id": "bV_ZdQjAb4jI"
      },
      "source": [
        "#Prepare rules for the book.csv data sets \n",
        "1) Try different values of support and confidence. Observe the change in number of rules for different support,confidence values\n",
        "2) Change the minimum length in apriori algorithm\n",
        "3) Visulize the obtained rules using different plots "
      ]
    },
    {
      "cell_type": "code",
      "metadata": {
        "id": "NDnMtuic5EqW"
      },
      "source": [
        "import pandas as pd\n",
        "import matplotlib.pyplot as plt"
      ],
      "execution_count": null,
      "outputs": []
    },
    {
      "cell_type": "code",
      "metadata": {
        "id": "111B6Ty45FgO"
      },
      "source": [
        "X=pd.read_csv(\"book.csv\")\n"
      ],
      "execution_count": null,
      "outputs": []
    },
    {
      "cell_type": "code",
      "metadata": {
        "id": "CDzGar2J5Fiz"
      },
      "source": [
        "from mlxtend.frequent_patterns import apriori,association_rules\n",
        "frequent_items=apriori(X, min_support=0.005, max_len=3,use_colnames = True)\n"
      ],
      "execution_count": null,
      "outputs": []
    },
    {
      "cell_type": "code",
      "metadata": {
        "id": "-ffXozQu5Flj"
      },
      "source": [
        "frequent_items.sort_values('support',ascending=False,inplace=True)\n"
      ],
      "execution_count": null,
      "outputs": []
    },
    {
      "cell_type": "code",
      "metadata": {
        "id": "8k8oxvjC5Fx3"
      },
      "source": [
        "rules=association_rules(frequent_items,metric='lift', min_threshold=1)\n"
      ],
      "execution_count": null,
      "outputs": []
    },
    {
      "cell_type": "code",
      "metadata": {
        "colab": {
          "base_uri": "https://localhost:8080/"
        },
        "id": "x5-0p8f25bDE",
        "outputId": "0ea78b1f-4685-486d-9c44-ad2821fb028f"
      },
      "source": [
        "print(rules.sort_values('lift',ascending=False).head())\n"
      ],
      "execution_count": null,
      "outputs": [
        {
          "output_type": "stream",
          "text": [
            "             antecedents          consequents  ...  leverage  conviction\n",
            "749    (ItalArt, RefBks)          (ItalAtlas)  ...  0.015760    5.502857\n",
            "752          (ItalAtlas)    (ItalArt, RefBks)  ...  0.015760    1.768780\n",
            "745            (ItalArt)  (ArtBks, ItalAtlas)  ...  0.015627    1.488344\n",
            "744  (ArtBks, ItalAtlas)            (ItalArt)  ...  0.015627   11.418000\n",
            "352   (ItalCook, ArtBks)            (ItalArt)  ...  0.034760    2.829461\n",
            "\n",
            "[5 rows x 9 columns]\n"
          ],
          "name": "stdout"
        }
      ]
    },
    {
      "cell_type": "code",
      "metadata": {
        "colab": {
          "base_uri": "https://localhost:8080/",
          "height": 319
        },
        "id": "NKkUpiNi5bNn",
        "outputId": "f60dba7b-f536-49bf-84d0-e1088caa4b20"
      },
      "source": [
        "plt.bar(x = list(range(1,11)),height = frequent_items.support[1:11],color='rgmyk');"
      ],
      "execution_count": null,
      "outputs": [
        {
          "output_type": "stream",
          "text": [
            "/usr/local/lib/python3.7/dist-packages/ipykernel_launcher.py:1: MatplotlibDeprecationWarning: Using a string of single character colors as a color sequence is deprecated. Use an explicit list instead.\n",
            "  \"\"\"Entry point for launching an IPython kernel.\n"
          ],
          "name": "stderr"
        },
        {
          "output_type": "display_data",
          "data": {
            "image/png": "[encoded data removed]",
            "text/plain": [
              "<Figure size 432x288 with 1 Axes>"
            ]
          },
          "metadata": {
            "tags": [],
            "needs_background": "light"
          }
        }
      ]
    },
    {
      "cell_type": "code",
      "metadata": {
        "colab": {
          "base_uri": "https://localhost:8080/",
          "height": 300
        },
        "id": "xR1Qe1Ml5F1O",
        "outputId": "1f95abf1-9134-48cb-b814-b37d1aa756a9"
      },
      "source": [
        "plt.xticks(list(range(1,11)),frequent_items.itemsets[1:11])\n",
        "plt.xlabel('item-sets');plt.ylabel('support')"
      ],
      "execution_count": null,
      "outputs": [
        {
          "output_type": "execute_result",
          "data": {
            "text/plain": [
              "Text(0, 0.5, 'support')"
            ]
          },
          "metadata": {
            "tags": []
          },
          "execution_count": 8
        },
        {
          "output_type": "display_data",
          "data": {
            "image/png": "[encoded data removed]",
            "text/plain": [
              "<Figure size 432x288 with 1 Axes>"
            ]
          },
          "metadata": {
            "tags": [],
            "needs_background": "light"
          }
        }
      ]
    },
    {
      "cell_type": "markdown",
      "metadata": {
        "id": "njiDKiNScTpo"
      },
      "source": [
        "\n",
        "\n",
        "---\n",
        "\n"
      ]
    },
    {
      "cell_type": "markdown",
      "metadata": {
        "id": "-sm0ZjQkcX-c"
      },
      "source": [
        "#Prepare rules for the my_movies.csv data sets \n",
        "1) Try different values of support and confidence. Observe the change in number of rules for different support,confidence values\n",
        "2) Change the minimum length in apriori algorithm\n",
        "3) Visulize the obtained rules using different plots"
      ]
    },
    {
      "cell_type": "code",
      "metadata": {
        "id": "SS_oPH21ci3Y"
      },
      "source": [
        "import pandas as pd"
      ],
      "execution_count": null,
      "outputs": []
    },
    {
      "cell_type": "code",
      "metadata": {
        "id": "5WY30btGckDX"
      },
      "source": [
        "X=pd.read_csv(\"my_movies.csv\")"
      ],
      "execution_count": null,
      "outputs": []
    },
    {
      "cell_type": "code",
      "metadata": {
        "id": "mxmOzKJtckGF"
      },
      "source": [
        "df=X.iloc[:,5:15]"
      ],
      "execution_count": null,
      "outputs": []
    },
    {
      "cell_type": "code",
      "metadata": {
        "id": "aiADY8O3ckJZ"
      },
      "source": [
        "from mlxtend.frequent_patterns import apriori,association_rules\n",
        "frequent_items=apriori(df, min_support=0.005, max_len=3,use_colnames = True)"
      ],
      "execution_count": null,
      "outputs": []
    },
    {
      "cell_type": "code",
      "metadata": {
        "id": "jGvN32YdckMg"
      },
      "source": [
        "frequent_items.sort_values('support',ascending=False,inplace=True)"
      ],
      "execution_count": null,
      "outputs": []
    },
    {
      "cell_type": "code",
      "metadata": {
        "id": "U3FYUFPTcstj"
      },
      "source": [
        "rules=association_rules(frequent_items,metric='lift', min_threshold=1)"
      ],
      "execution_count": null,
      "outputs": []
    },
    {
      "cell_type": "code",
      "metadata": {
        "colab": {
          "base_uri": "https://localhost:8080/"
        },
        "id": "tnm8KgfgcswL",
        "outputId": "f30ed584-e730-43c2-8dbc-8ae1b7e16f8d"
      },
      "source": [
        "print(rules.sort_values('lift',ascending=False).head())"
      ],
      "execution_count": null,
      "outputs": [
        {
          "output_type": "stream",
          "text": [
            "                antecedents              consequents  ...  leverage  conviction\n",
            "82  (Green Mile, Gladiator)                   (LOTR)  ...      0.09         inf\n",
            "83                   (LOTR)  (Green Mile, Gladiator)  ...      0.09         inf\n",
            "81        (LOTR, Gladiator)             (Green Mile)  ...      0.08         inf\n",
            "72                   (LOTR)             (Green Mile)  ...      0.08         inf\n",
            "69             (Green Mile)     (Sixth Sense, LOTR2)  ...      0.08         1.8\n",
            "\n",
            "[5 rows x 9 columns]\n"
          ],
          "name": "stdout"
        }
      ]
    },
    {
      "cell_type": "code",
      "metadata": {
        "id": "uq8RCjFhdY3z"
      },
      "source": [
        ""
      ],
      "execution_count": null,
      "outputs": []
    }
  ]
}